{
 "cells": [
  {
   "cell_type": "code",
   "execution_count": 1,
   "metadata": {},
   "outputs": [],
   "source": [
    "import requests\n",
    "import re\n",
    "from bs4 import BeautifulSoup"
   ]
  },
  {
   "cell_type": "code",
   "execution_count": 2,
   "metadata": {},
   "outputs": [
    {
     "name": "stdout",
     "output_type": "stream",
     "text": [
      "正在上映中總共:  共81筆，目前顯示1~10筆\n"
     ]
    }
   ],
   "source": [
    "url = 'https://movies.yahoo.com.tw/movie_intheaters.html'\n",
    "resp = requests.get(url)\n",
    "resp.encoding = 'utf-8'\n",
    "\n",
    "soup = BeautifulSoup(resp.text, 'lxml')\n",
    "html = soup.find(\"div\", attrs={'class':'release_box'})\n",
    "print(\"正在上映中總共: \", html.p.string)"
   ]
  },
  {
   "cell_type": "code",
   "execution_count": 8,
   "metadata": {},
   "outputs": [
    {
     "name": "stdout",
     "output_type": "stream",
     "text": [
      "----------------------------------------------------------------------\n",
      "電影名稱： \n",
      "                  鋼鐵勳章\n",
      "期待度： 97%\n"
     ]
    },
    {
     "ename": "AttributeError",
     "evalue": "'NoneType' object has no attribute 'span'",
     "output_type": "error",
     "traceback": [
      "\u001b[1;31m---------------------------------------------------------------------------\u001b[0m",
      "\u001b[1;31mAttributeError\u001b[0m                            Traceback (most recent call last)",
      "\u001b[1;32m<ipython-input-8-c2ffdac0428a>\u001b[0m in \u001b[0;36m<module>\u001b[1;34m\u001b[0m\n\u001b[0;32m     16\u001b[0m         \u001b[0mprint\u001b[0m\u001b[1;33m(\u001b[0m\u001b[1;34m\"期待度：\"\u001b[0m\u001b[1;33m,\u001b[0m \u001b[0mexpectation\u001b[0m\u001b[1;33m.\u001b[0m\u001b[0mspan\u001b[0m\u001b[1;33m.\u001b[0m\u001b[0mstring\u001b[0m\u001b[1;33m)\u001b[0m\u001b[1;33m\u001b[0m\u001b[1;33m\u001b[0m\u001b[0m\n\u001b[0;32m     17\u001b[0m         \u001b[0msatisfaction\u001b[0m \u001b[1;33m=\u001b[0m \u001b[0mlevel_box\u001b[0m\u001b[1;33m.\u001b[0m\u001b[0mfind\u001b[0m\u001b[1;33m(\u001b[0m\u001b[1;34m\"div\"\u001b[0m\u001b[1;33m,\u001b[0m \u001b[0mattrs\u001b[0m\u001b[1;33m=\u001b[0m\u001b[1;33m{\u001b[0m\u001b[1;34m\"class\"\u001b[0m\u001b[1;33m:\u001b[0m\u001b[1;34m\"leveltext starwithnum\"\u001b[0m\u001b[1;33m}\u001b[0m\u001b[1;33m)\u001b[0m\u001b[1;33m\u001b[0m\u001b[1;33m\u001b[0m\u001b[0m\n\u001b[1;32m---> 18\u001b[1;33m         \u001b[0mprint\u001b[0m\u001b[1;33m(\u001b[0m\u001b[1;34m\"滿意度：\"\u001b[0m\u001b[1;33m,\u001b[0m \u001b[0msatisfaction\u001b[0m\u001b[1;33m.\u001b[0m\u001b[0mspan\u001b[0m\u001b[1;33m[\u001b[0m\u001b[1;34m'data-num'\u001b[0m\u001b[1;33m]\u001b[0m\u001b[1;33m)\u001b[0m\u001b[1;33m\u001b[0m\u001b[1;33m\u001b[0m\u001b[0m\n\u001b[0m\u001b[0;32m     19\u001b[0m         \u001b[0mmovie_info\u001b[0m \u001b[1;33m=\u001b[0m \u001b[0mp\u001b[0m\u001b[1;33m.\u001b[0m\u001b[0mfind\u001b[0m\u001b[1;33m(\u001b[0m\u001b[1;34m\"div\"\u001b[0m\u001b[1;33m,\u001b[0m \u001b[0mattrs\u001b[0m\u001b[1;33m=\u001b[0m\u001b[1;33m{\u001b[0m\u001b[1;34m\"class\"\u001b[0m\u001b[1;33m:\u001b[0m\u001b[1;34m\"release_text\"\u001b[0m\u001b[1;33m}\u001b[0m\u001b[1;33m)\u001b[0m\u001b[1;33m\u001b[0m\u001b[1;33m\u001b[0m\u001b[0m\n\u001b[0;32m     20\u001b[0m         \u001b[0mprint\u001b[0m\u001b[1;33m(\u001b[0m\u001b[0mmovie_info\u001b[0m\u001b[1;33m.\u001b[0m\u001b[0mspan\u001b[0m\u001b[1;33m.\u001b[0m\u001b[0mstring\u001b[0m\u001b[1;33m)\u001b[0m\u001b[1;33m\u001b[0m\u001b[1;33m\u001b[0m\u001b[0m\n",
      "\u001b[1;31mAttributeError\u001b[0m: 'NoneType' object has no attribute 'span'"
     ]
    }
   ],
   "source": [
    "max_page = 5\n",
    "for page_number in range(1, max_page+1, 1):\n",
    "    url = 'https://movies.yahoo.com.tw/movie_intheaters.html'\n",
    "    payload = {'page':str(page_number)}\n",
    "    resp = requests.get(url, params=payload)\n",
    "    resp.encoding = 'utf-8'\n",
    "    soup = BeautifulSoup(resp.text, 'lxml')\n",
    "\n",
    "    movie_list = soup.find(\"ul\", attrs={\"class\":\"release_list\"}).find_all(\"li\")\n",
    "    for p in movie_list:\n",
    "        print(\"----------------------------------------------------------------------\")\n",
    "        movie_name = p.find(\"div\", attrs={\"class\":\"release_movie_name\"})\n",
    "        print(\"電影名稱：\", movie_name.a.string)\n",
    "        level_box = movie_name.find(\"dl\", attrs={\"class\":\"levelbox\"})\n",
    "        expectation = level_box.find(\"div\", attrs={\"class\":\"leveltext\"})\n",
    "        print(\"期待度：\", expectation.span.string)\n",
    "        satisfaction = level_box.find(\"div\", attrs={\"class\":\"leveltext starwithnum\"})\n",
    "        print(\"滿意度：\", satisfaction.span['data-num'])\n",
    "        movie_info = p.find(\"div\", attrs={\"class\":\"release_text\"})\n",
    "        print(movie_info.span.string)"
   ]
  },
  {
   "cell_type": "code",
   "execution_count": 9,
   "metadata": {},
   "outputs": [
    {
     "name": "stdout",
     "output_type": "stream",
     "text": [
      "Movie: 電影版 地獄少女, ID: 10525\n",
      "Movie: 刺激1995, ID: 10518\n",
      "Movie: 通靈少年2020, ID: 10517\n",
      "Movie: 安雅的回家路, ID: 10516\n",
      "Movie: 牆內的房客, ID: 10512\n",
      "Movie: 南山的部長們, ID: 10509\n",
      "Movie: 另類神父, ID: 10500\n",
      "Movie: 破．局, ID: 10496\n",
      "Movie: 劇場版 不起眼女主角培育法 Fine, ID: 10486\n",
      "Movie: 複製柔伊, ID: 10455\n",
      "Movie: 練愛iNG, ID: 10442\n",
      "Movie: 鋼鐵勳章, ID: 10432\n",
      "Movie: 我，最親愛的, ID: 10503\n",
      "Movie: 血衛, ID: 10469\n",
      "Movie: 導演先生的完美假期, ID: 10545\n",
      "Movie: 大地蜜語, ID: 10513\n",
      "Movie: 狂飆一夢, ID: 10506\n",
      "Movie: 親愛的莎瑪, ID: 10491\n",
      "Movie: 大畫特務, ID: 10478\n",
      "Movie: 戰慄糖果屋, ID: 10472\n",
      "Movie: 失戀殺人：三角禁戀, ID: 10465\n",
      "Movie: 明明會說話, ID: 10440\n",
      "Movie: 艾瑪, ID: 10396\n",
      "Movie: 罪樂園, ID: 10349\n",
      "Movie: 千日千夜, ID: 10490\n",
      "Movie: 鳴鳥不飛：烏雲密布, ID: 10458\n",
      "Movie: 哥布林殺手 劇場版, ID: 10438\n",
      "Movie: 女鬼橋, ID: 10437\n",
      "Movie: 怨咒, ID: 10421\n",
      "Movie: 極地守護犬, ID: 10383\n",
      "Movie: 叔．叔, ID: 10371\n",
      "Movie: 隱形人, ID: 10359\n",
      "Movie: 失路人, ID: 10498\n",
      "Movie: 電影音效傳奇：好萊塢之聲, ID: 10484\n",
      "Movie: 悲慘世界, ID: 10479\n",
      "Movie: 吹哨奇案, ID: 10475\n",
      "Movie: 陰櫥, ID: 10457\n",
      "Movie: 絕命大平台, ID: 10447\n",
      "Movie: 李察朱威爾事件, ID: 10368\n",
      "Movie: 音速小子, ID: 9246\n",
      "Movie: 逃出夢幻島, ID: 10485\n",
      "Movie: 雨天．紐約, ID: 10476\n",
      "Movie: 超＂人＂氣動物園, ID: 10445\n",
      "Movie: 全境失控, ID: 10426\n",
      "Movie: 猛禽小隊：小丑女大解放, ID: 10268\n",
      "Movie: 紅鞋公主與七矮人, ID: 10417\n",
      "Movie: 1917, ID: 10189\n",
      "Movie: 她們, ID: 10202\n",
      "Movie: 變身特務, ID: 9008\n",
      "Movie: 青春催落去, ID: 10404\n",
      "Movie: 絕地戰警FOR LIFE, ID: 10242\n",
      "Movie: 星星知我心, ID: 10409\n",
      "Movie: 逃出天堂島, ID: 10384\n",
      "Movie: 別告訴她, ID: 10382\n",
      "Movie: 真愛裁會贏, ID: 10362\n",
      "Movie: 潛艦追緝, ID: 10333\n",
      "Movie: 霹靂嬌娃, ID: 10124\n",
      "Movie: CATS貓, ID: 10166\n",
      "Movie: STAR WARS : 天行者的崛起, ID: 10225\n",
      "Movie: 黑色聖誕節, ID: 10291\n",
      "Movie: 去年聖誕節, ID: 10256\n",
      "Movie: 野蠻遊戲：全面晉級, ID: 10134\n",
      "Movie: 寂寞診療室, ID: 10282\n",
      "Movie: 布魯克林孤兒, ID: 10224\n",
      "Movie: 賽道狂人, ID: 10097\n",
      "Movie: 冰雪奇緣2, ID: 9597\n",
      "Movie: 萬萬沒想到, ID: 10281\n",
      "Movie: 救火奶爸, ID: 10164\n",
      "Movie: 決戰中途島, ID: 10130\n",
      "Movie: 魔鬼終結者：黑暗宿命, ID: 10067\n",
      "Movie: 絕鯊47：猛鯊出籠, ID: 10214\n",
      "Movie: 貓咪知道但是貓咪不說, ID: 10203\n",
      "Movie: 天氣之子, ID: 10091\n",
      "Movie: 寄生上流, ID: 10020\n",
      "Movie: 一首搖滾上月球, ID: 4887\n",
      "Movie: 錢不夠用2, ID: 3026\n"
     ]
    }
   ],
   "source": [
    "\n",
    "url = 'https://movies.yahoo.com.tw/'\n",
    "resp = requests.get(url)\n",
    "resp.encoding = 'utf-8'\n",
    "\n",
    "soup = BeautifulSoup(resp.text, 'lxml')\n",
    "html = soup.find(\"select\", attrs={'name':'movie_id'})\n",
    "movie_item = html.find_all(\"option\", attrs={'data-name':re.compile('.*')})\n",
    "\n",
    "for p in movie_item:\n",
    "    print(\"Movie: %s, ID: %s\" % (p[\"data-name\"], p[\"value\"]))"
   ]
  },
  {
   "cell_type": "code",
   "execution_count": 11,
   "metadata": {},
   "outputs": [
    {
     "name": "stdout",
     "output_type": "stream",
     "text": [
      "放映地區: 台北市, 代號(area_id): 28\n",
      "放映地區: 桃園, 代號(area_id): 16\n",
      "放映地區: 新竹, 代號(area_id): 20\n",
      "放映地區: 台中, 代號(area_id): 2\n",
      "放映地區: 台南, 代號(area_id): 10\n",
      "放映地區: 高雄, 代號(area_id): 17\n",
      "放映地區: 宜蘭, 代號(area_id): 11\n"
     ]
    }
   ],
   "source": [
    "movie_id = 10525\n",
    "url = 'https://movies.yahoo.com.tw/api/v1/areas_by_movie_theater'\n",
    "payload = {'movie_id':str(movie_id)}\n",
    "\n",
    "headers = {\n",
    "    'authority': 'movies.yahoo.com.tw',\n",
    "    'method': 'GET',\n",
    "    'path': '/api/v1/areas_by_movie_theater?movie_id=' + str(movie_id),\n",
    "    'scheme': 'https',\n",
    "    'accept': 'application/json, text/javascript, */*; q=0.01',\n",
    "    'accept-encoding': 'gzip, deflate, br',\n",
    "    'accept-language': 'zh-TW,zh;q=0.9,en-US;q=0.8,en;q=0.7,zh-CN;q=0.6',\n",
    "    'cookie': 'rxx=9s3x2fws06.1g16irnc&v=1; _ga=GA1.3.2056742944.1551651301; GUC=AQEBAQFczFpdm0IfmwSB&s=AQAAACoo4N5D&g=XMsVBw; BX=4hkdk1decm57t&b=3&s=mr; _ga=GA1.4.2056742944.1551651301; nexagesuid=82843256dd234e8e91aa73f2062f8218; browsed_movie=eyJpdiI6IlJXWWtiSWJaZlNGK2MxQnhscnVUYWc9PSIsInZhbHVlIjoiMXRhMmVHRXRIeUNjc1RBWDJzdGYwbnlIQURmWGsrcjJSMzhkbkcraDNJVUNIZEZsbzU3amlFcVZ1NzlmazJrTGpoMjVrbHk1YmpoRENXaHZTOUw1TmI2ZTZVWHdOejZQZm16RmVuMWlHTTJLaTZLVFZZVkFOMDlTd1wvSGltcytJIiwibWFjIjoiZWQ2ZjA4MmVjZmZlYjlmNjJmYmY2NGMyMDI0Njc0NWViYjVkOWE2NDg0N2RhODMxZjBjZDhiMmJhZTc2MDZhYiJ9; avi=eyJpdiI6Im1NeWFJRlVRWDR1endEcGRGUGJUbVE9PSIsInZhbHVlIjoickRpU3JuUytmcGl6cjF5OW0rNU9iZz09IiwibWFjIjoiY2VmY2NkNzZmM2NhNjY5YzlkOTcyNjE5OGEyMzU0NWYxOTdmMDRkMDY3OWNmMmZjOTMxYjc5MjI5N2Q5NGE5MiJ9; cmp=t=1559391030&j=0; _gid=GA1.4.779543841.1559391031; XSRF-TOKEN=eyJpdiI6IkhpS2hGcDRQaHlmWUJmaHdSS2Q2bHc9PSIsInZhbHVlIjoiOUVoNFk4OHI1UUZmUWRtYXhza0MyWjJSTlhlZ3RnT0VGeVJPN2JuczVRMGRFdWt2OUlsamVKeHRobFwvcHBGM0dhU3VyMXNGTHlsb2dVM2l0U1hpUGxBPT0iLCJtYWMiOiJkZWU4YzJhNjAxMTY3MzE4Y2ExNWIxYmE1ZjE1YWZlZTlhOTcyYjc4M2RlZGY4ZWNjZDYyMTA2NGYwZGViMzc2In0%3D; m_s=eyJpdiI6InpsZHZ2Tk1BZ0dxaHhETml1RjBnUXc9PSIsInZhbHVlIjoiSkNGeHUranRoXC85bDFiaDhySTJqNkJRcWdjWUxjeVRJSHVYZ1wvd2d4bWJZUTUrSHVDM0lUcW5KNHdETFZ4T1lieU81OUhzc1VoUXhZcWk0UDZSQXVFdz09IiwibWFjIjoiYmJkMDJkMDhlODIzMzcyMWY4M2NmYWNjNGVlOWRjMDIwZmVmNzAyMjE3Yzg3ZGY3ODBkZWEzZTI4MTI5ZWNmOSJ9; _gat=1; nexagesd=10',\n",
    "    'dnt': '1',\n",
    "    'mv-authorization': '21835b082e15b91a69b3851eec7b31b82ce82afb',\n",
    "    'referer': 'https://movies.yahoo.com.tw/',\n",
    "    'user-agent': 'Mozilla/5.0 (Windows NT 10.0; Win64; x64) AppleWebKit/537.36 (KHTML, like Gecko) Chrome/74.0.3729.169 Safari/537.36',\n",
    "    'x-requested-with': 'XMLHttpRequest',\n",
    "}\n",
    "    \n",
    "resp = requests.get(url, params=payload, headers=headers)\n",
    "\n",
    "for p in resp.json():\n",
    "    print('放映地區: {0}, 代號(area_id): {1}'.format(p['title'], p['area_id']))"
   ]
  },
  {
   "cell_type": "code",
   "execution_count": null,
   "metadata": {},
   "outputs": [],
   "source": []
  }
 ],
 "metadata": {
  "kernelspec": {
   "display_name": "Python 3",
   "language": "python",
   "name": "python3"
  },
  "language_info": {
   "codemirror_mode": {
    "name": "ipython",
    "version": 3
   },
   "file_extension": ".py",
   "mimetype": "text/x-python",
   "name": "python",
   "nbconvert_exporter": "python",
   "pygments_lexer": "ipython3",
   "version": "3.7.4"
  }
 },
 "nbformat": 4,
 "nbformat_minor": 2
}
