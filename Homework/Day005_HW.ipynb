{
 "cells": [
  {
   "cell_type": "code",
   "execution_count": 1,
   "metadata": {},
   "outputs": [],
   "source": [
    "import requests\n",
    "r = requests.get('https://www.dcard.tw/_api/forums/job/posts?popular=true')\n",
    "response = r.text"
   ]
  },
  {
   "cell_type": "code",
   "execution_count": 2,
   "metadata": {},
   "outputs": [],
   "source": [
    "import json\n",
    "data = json.loads(response)"
   ]
  },
  {
   "cell_type": "code",
   "execution_count": 3,
   "metadata": {},
   "outputs": [
    {
     "data": {
      "text/plain": [
       "30"
      ]
     },
     "execution_count": 3,
     "metadata": {},
     "output_type": "execute_result"
    }
   ],
   "source": [
    "len(data)"
   ]
  },
  {
   "cell_type": "code",
   "execution_count": 4,
   "metadata": {},
   "outputs": [
    {
     "name": "stdout",
     "output_type": "stream",
     "text": [
      "<請先點我> 工作板＆實習、打工職缺刊登說明\n",
      "2017-01-01T06:27:39.650Z\n",
      "38\n",
      "686\n",
      "近期找工作的心酸\n",
      "2020-03-30T08:10:21.582Z\n",
      "53\n",
      "106\n",
      "給職場新鮮人 email中BCC/CC是這樣用的\n",
      "2020-03-30T14:30:10.731Z\n",
      "8\n",
      "103\n",
      "畢業後當兩年的打工仔\n",
      "2020-03-30T03:34:39.036Z\n",
      "10\n",
      "33\n",
      "該不該換工作...？\n",
      "2020-03-30T13:33:28.488Z\n",
      "7\n",
      "23\n",
      "免費替各位履歷健檢\n",
      "2020-03-30T06:31:57.037Z\n",
      "11\n",
      "19\n",
      "成為實習老師的那半年\n",
      "2020-03-30T08:49:19.458Z\n",
      "5\n",
      "18\n",
      "不知道該不該去有興趣但薪水低的公司\n",
      "2020-03-30T14:29:50.494Z\n",
      "34\n",
      "17\n",
      "台積電面試該如何準備\n",
      "2020-03-30T19:03:05.682Z\n",
      "6\n",
      "16\n",
      "進銀行總部難？保險內勤是不是比較簡單？\n",
      "2020-03-30T06:17:56.484Z\n",
      "6\n",
      "14\n",
      "公司要求全部人員常日班改輪班制\n",
      "2020-03-30T06:35:21.395Z\n",
      "6\n",
      "11\n",
      "人力銀行的履歷填寫\n",
      "2020-03-30T01:54:38.528Z\n",
      "2\n",
      "10\n",
      "會計系勸世文\n",
      "2020-03-30T09:47:05.718Z\n",
      "6\n",
      "9\n",
      "可以學到東西的工作\n",
      "2020-03-30T04:45:52.978Z\n",
      "1\n",
      "9\n",
      "關於工作態度\n",
      "2020-03-30T13:29:57.135Z\n",
      "8\n",
      "8\n",
      "#改期 #保聖那 日商聯合徵才博覽會 JOB博🇯🇵\n",
      "2020-03-30T09:59:42.657Z\n",
      "0\n",
      "8\n",
      "工作氣氛\n",
      "2020-03-31T00:00:41.917Z\n",
      "14\n",
      "7\n",
      "分享一下你們找的工作吧\n",
      "2020-03-30T17:57:22.552Z\n",
      "13\n",
      "7\n",
      "關於面試後說會打電話通知試做😱\n",
      "2020-03-30T07:11:08.356Z\n",
      "3\n",
      "7\n",
      "國民年金會想繳嗎？\n",
      "2020-03-31T03:51:17.994Z\n",
      "8\n",
      "6\n",
      "#求職請益 想投履歷給曾經工作過的公司\n",
      "2020-03-31T03:41:28.985Z\n",
      "2\n",
      "6\n",
      "離職被要求簽保密協議，該簽嗎？（急，在線等）\n",
      "2020-03-31T00:46:35.345Z\n",
      "11\n",
      "6\n",
      "更/這樣要求真的很多嗎？\n",
      "2020-03-30T13:32:58.277Z\n",
      "11\n",
      "6\n",
      "妳/你願意被自家人拖款嗎？\n",
      "2020-03-30T05:33:07.935Z\n",
      "7\n",
      "6\n",
      "希望大家能給我意見跟方向\n",
      "2020-03-30T02:17:54.609Z\n",
      "5\n",
      "6\n",
      "要離職了還有特休 諸多疑問？\n",
      "2020-03-31T11:03:11.331Z\n",
      "2\n",
      "5\n",
      "有點迷茫，不知道是不是適合我的工作。\n",
      "2020-03-31T10:42:36.043Z\n",
      "6\n",
      "5\n",
      "玉山&國泰客服\n",
      "2020-03-31T02:33:25.567Z\n",
      "6\n",
      "5\n",
      "餐飲業假拆成兩個半天\n",
      "2020-03-30T23:38:59.153Z\n",
      "2\n",
      "5\n",
      "資遣會影響下一份工作嗎？\n",
      "2020-03-30T16:44:36.561Z\n",
      "5\n",
      "5\n"
     ]
    }
   ],
   "source": [
    "for d in data:\n",
    "    print(d['title'])\n",
    "    print(d['createdAt'])\n",
    "    print(d['commentCount'])\n",
    "    print(d['likeCount'])"
   ]
  },
  {
   "cell_type": "code",
   "execution_count": 5,
   "metadata": {},
   "outputs": [
    {
     "data": {
      "text/plain": [
       "(9.866666666666667, 39.06666666666667)"
      ]
     },
     "execution_count": 5,
     "metadata": {},
     "output_type": "execute_result"
    }
   ],
   "source": [
    "commentCount = 0\n",
    "likeCount = 0\n",
    "for d in data:\n",
    "    commentCount += d['commentCount']\n",
    "    likeCount += d['likeCount']\n",
    "\n",
    "commentCount/len(data), likeCount/len(data)"
   ]
  },
  {
   "cell_type": "code",
   "execution_count": 6,
   "metadata": {},
   "outputs": [
    {
     "data": {
      "text/plain": [
       "(3.2333333333333334, 1.6)"
      ]
     },
     "execution_count": 6,
     "metadata": {},
     "output_type": "execute_result"
    }
   ],
   "source": [
    "r = requests.get('https://www.dcard.tw/_api/forums/job/posts?popular=false')\n",
    "response = r.text\n",
    "data = json.loads(response)\n",
    "commentCount = 0\n",
    "likeCount = 0\n",
    "for d in data:\n",
    "    commentCount += d['commentCount']\n",
    "    likeCount += d['likeCount']\n",
    "\n",
    "commentCount/len(data), likeCount/len(data)"
   ]
  },
  {
   "cell_type": "code",
   "execution_count": null,
   "metadata": {},
   "outputs": [],
   "source": []
  }
 ],
 "metadata": {
  "kernelspec": {
   "display_name": "Python 3",
   "language": "python",
   "name": "python3"
  },
  "language_info": {
   "codemirror_mode": {
    "name": "ipython",
    "version": 3
   },
   "file_extension": ".py",
   "mimetype": "text/x-python",
   "name": "python",
   "nbconvert_exporter": "python",
   "pygments_lexer": "ipython3",
   "version": "3.7.4"
  }
 },
 "nbformat": 4,
 "nbformat_minor": 2
}
