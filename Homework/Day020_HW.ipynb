{
 "cells": [
  {
   "cell_type": "code",
   "execution_count": 14,
   "metadata": {},
   "outputs": [
    {
     "data": {
      "text/plain": [
       "200"
      ]
     },
     "execution_count": 14,
     "metadata": {},
     "output_type": "execute_result"
    }
   ],
   "source": [
    "import requests\n",
    "url = 'https://taqm.epa.gov.tw/taqm/tw/MonthlyAverage.aspx'\n",
    "payload = {\n",
    "    'ctl05$ddlSite': 58,\n",
    "    'ctl05$ddlYear': 2020,\n",
    "    'ctl05$btnQuery': '查詢',\n",
    "    'ScriptManager1': 'ctl05$UpdatePanel1|ctl05$btnQuery',\n",
    "    '__VIEWSTATE': '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',\n",
    "    '__VIEWSTATEGENERATOR': '0C858E1A',\n",
    "    '__EVENTVALIDATION': '8gymVlBizhBhb8XgMLBPvZSf5DVDLlZGw0RA+0PAlGwPj3dQJETYZ/4BN6edNvJy5+WvJVE+Hb3QbgICuXMCs8BK//Pwx90H+Gwid9mtTg2Fd5pMk3oLRM9pMyVyVeMguZQ68T6tV/Q+KgMcaBHB7lnpdjDBTgRWaEwSvxDJMiBYmEORAS/uiLO6SLovC3jeDjjGHntVRVN9cwQPsBPoRoyQW2++aK3QYq1CEHijDLEj9vdhFwAHEsuC6zC9IVBPW49Pwjg65lCLJb6GtN9CHWLyX44nUq5YuWcctFZ491ft7o4fInz4C7J9aC1yvl4kL1Em+J9BFlw1Vf8AAAJxuh/7MSGhmPwqRdMN1na5ZxOADpMmnZTtlMLyrVYA+XVXRvFSdFlFZJmDOQMz5x+OXmu5WiNYVqQjNcVsiTcGTyh9VOyOcvSvOaOKooKxU2a4YKr67MzEvUxBIexGhXnERsVGmS7EBxHvqLg+Jo1jWL2REa9xU1Z/ScXmnIX7vVDsDYr/+3lsDPDB+wnoUM+cIzFe0m8DYCEiSdX2MfgltzJdj8/oB41Qq9b1FPyZDr4Xcin8huDNFj8ljoyaBb6Ucq2KyeP21kUKyQNJO53ABTjkDnnBPCN6mkoldkH9mD4AjEY5rSctLOfJXJhUOj1kQMeeWk/MapGbvQekwApPXmOFN6OG2UJSf0sQBEFnWLcpXO3YA7xTNwwlE/yR4w5H8N9F/Q6jWUl1WhhIC3rXyf9+BQBb+/XQ7L2yJ5EN13lW4CQkx+grXjD1Bjpvit6jso/NT7oVYbKED3XztrADtYawvRmSSurPZBO3tMzK90zV5z1WZ7858jRmjbbxPb8sp5+uRVIzfeButsKvZyHR45o4vb5/VZaBBf8kxV7cRPiZnouhIveShJpmyb/GqRv6QHo21Amw0AApaUXHthOFRe3wEOQWbaLdMx8AxWMr2DxbbCFKQpIDjs4TFniszC/4ZSjzD8Q='\n",
    "}\n",
    "r = requests.post(url, data=payload)\n",
    "r.status_code"
   ]
  },
  {
   "cell_type": "code",
   "execution_count": 15,
   "metadata": {},
   "outputs": [],
   "source": [
    "from bs4 import BeautifulSoup"
   ]
  },
  {
   "cell_type": "code",
   "execution_count": 16,
   "metadata": {},
   "outputs": [],
   "source": [
    "soup = BeautifulSoup(r.text, 'html5lib')"
   ]
  },
  {
   "cell_type": "code",
   "execution_count": 17,
   "metadata": {},
   "outputs": [],
   "source": [
    "table = soup.find('table', class_='TABLE_G')"
   ]
  },
  {
   "cell_type": "code",
   "execution_count": 18,
   "metadata": {},
   "outputs": [
    {
     "name": "stdout",
     "output_type": "stream",
     "text": [
      "<table align=\"Center\" border=\"1\" cellpadding=\"3\" cellspacing=\"0\" class=\"TABLE_G\" id=\"ctl05_gv\" rules=\"all\" style=\"border-color:Black;border-width:1px;border-style:None;border-collapse:collapse;\">\n",
      "\t\t\t<tbody><tr style=\"color:Black;font-weight:normal;\">\n",
      "\t\t\t\t<th scope=\"col\">監測項目</th><th scope=\"col\">單位</th><th scope=\"col\">監測日期</th><th scope=\"col\">監測值</th><th scope=\"col\">標註</th>\n",
      "\t\t\t</tr><tr style=\"color:Black;\">\n",
      "\t\t\t\t<td class=\"no-alt\" rowspan=\"2\" style=\"white-space:nowrap;\" valign=\"top\">SO2</td><td class=\"no-alt\" rowspan=\"2\" valign=\"top\">ppb</td><td>2020/01</td><td>3</td><td> </td>\n",
      "\t\t\t</tr><tr class=\"ALT\" style=\"color:Black;\">\n",
      "\t\t\t\t<td>2020/02</td><td>3.10</td><td> </td>\n",
      "\t\t\t</tr><tr style=\"color:Black;\">\n",
      "\t\t\t\t<td class=\"no-alt\" rowspan=\"2\" style=\"white-space:nowrap;\" valign=\"top\">CO</td><td class=\"no-alt\" rowspan=\"2\" valign=\"top\">ppm</td><td>2020/01</td><td>0.58</td><td> </td>\n",
      "\t\t\t</tr><tr class=\"ALT\" style=\"color:Black;\">\n",
      "\t\t\t\t<td>2020/02</td><td>0.47</td><td> </td>\n",
      "\t\t\t</tr><tr style=\"color:Black;\">\n",
      "\t\t\t\t<td class=\"no-alt\" rowspan=\"2\" style=\"white-space:nowrap;\" valign=\"top\">O3</td><td class=\"no-alt\" rowspan=\"2\" valign=\"top\">ppb</td><td>2020/01</td><td>28.40</td><td> </td>\n",
      "\t\t\t</tr><tr class=\"ALT\" style=\"color:Black;\">\n",
      "\t\t\t\t<td>2020/02</td><td>30.30</td><td> </td>\n",
      "\t\t\t</tr><tr style=\"color:Black;\">\n",
      "\t\t\t\t<td class=\"no-alt\" rowspan=\"2\" style=\"white-space:nowrap;\" valign=\"top\">PM10</td><td class=\"no-alt\" rowspan=\"2\" valign=\"top\">μg/m3</td><td>2020/01</td><td>55</td><td> </td>\n",
      "\t\t\t</tr><tr class=\"ALT\" style=\"color:Black;\">\n",
      "\t\t\t\t<td>2020/02</td><td>53</td><td> </td>\n",
      "\t\t\t</tr><tr style=\"color:Black;\">\n",
      "\t\t\t\t<td class=\"no-alt\" rowspan=\"2\" style=\"white-space:nowrap;\" valign=\"top\">NOx</td><td class=\"no-alt\" rowspan=\"2\" valign=\"top\">ppb</td><td>2020/01</td><td>29.72</td><td> </td>\n",
      "\t\t\t</tr><tr class=\"ALT\" style=\"color:Black;\">\n",
      "\t\t\t\t<td>2020/02</td><td>25.91</td><td> </td>\n",
      "\t\t\t</tr><tr style=\"color:Black;\">\n",
      "\t\t\t\t<td class=\"no-alt\" rowspan=\"2\" style=\"white-space:nowrap;\" valign=\"top\">NO</td><td class=\"no-alt\" rowspan=\"2\" valign=\"top\">ppb</td><td>2020/01</td><td>6.01</td><td> </td>\n",
      "\t\t\t</tr><tr class=\"ALT\" style=\"color:Black;\">\n",
      "\t\t\t\t<td>2020/02</td><td>5.45</td><td> </td>\n",
      "\t\t\t</tr><tr style=\"color:Black;\">\n",
      "\t\t\t\t<td class=\"no-alt\" rowspan=\"2\" style=\"white-space:nowrap;\" valign=\"top\">NO2</td><td class=\"no-alt\" rowspan=\"2\" valign=\"top\">ppb</td><td>2020/01</td><td>23.71</td><td> </td>\n",
      "\t\t\t</tr><tr class=\"ALT\" style=\"color:Black;\">\n",
      "\t\t\t\t<td>2020/02</td><td>20.46</td><td> </td>\n",
      "\t\t\t</tr><tr style=\"color:Black;\">\n",
      "\t\t\t\t<td class=\"no-alt\" rowspan=\"2\" style=\"white-space:nowrap;\" valign=\"top\">THC</td><td class=\"no-alt\" rowspan=\"2\" valign=\"top\">ppm</td><td>2020/01</td><td>2.18</td><td> </td>\n",
      "\t\t\t</tr><tr class=\"ALT\" style=\"color:Black;\">\n",
      "\t\t\t\t<td>2020/02</td><td>2.12</td><td> </td>\n",
      "\t\t\t</tr><tr style=\"color:Black;\">\n",
      "\t\t\t\t<td class=\"no-alt\" rowspan=\"2\" style=\"white-space:nowrap;\" valign=\"top\">NMHC</td><td class=\"no-alt\" rowspan=\"2\" valign=\"top\">ppm</td><td>2020/01</td><td>0.20</td><td> </td>\n",
      "\t\t\t</tr><tr class=\"ALT\" style=\"color:Black;\">\n",
      "\t\t\t\t<td>2020/02</td><td>0.18</td><td> </td>\n",
      "\t\t\t</tr><tr style=\"color:Black;\">\n",
      "\t\t\t\t<td class=\"no-alt\" rowspan=\"2\" style=\"white-space:nowrap;\" valign=\"top\">CH4</td><td class=\"no-alt\" rowspan=\"2\" valign=\"top\">ppm</td><td>2020/01</td><td>1.98</td><td> </td>\n",
      "\t\t\t</tr><tr class=\"ALT\" style=\"color:Black;\">\n",
      "\t\t\t\t<td>2020/02</td><td>1.94</td><td> </td>\n",
      "\t\t\t</tr>\n",
      "\t\t</tbody></table>\n"
     ]
    }
   ],
   "source": [
    "print(table)"
   ]
  },
  {
   "cell_type": "code",
   "execution_count": null,
   "metadata": {},
   "outputs": [],
   "source": []
  }
 ],
 "metadata": {
  "kernelspec": {
   "display_name": "Python 3",
   "language": "python",
   "name": "python3"
  },
  "language_info": {
   "codemirror_mode": {
    "name": "ipython",
    "version": 3
   },
   "file_extension": ".py",
   "mimetype": "text/x-python",
   "name": "python",
   "nbconvert_exporter": "python",
   "pygments_lexer": "ipython3",
   "version": "3.7.4"
  }
 },
 "nbformat": 4,
 "nbformat_minor": 2
}
