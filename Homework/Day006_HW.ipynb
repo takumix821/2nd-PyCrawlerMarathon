{
 "cells": [
  {
   "cell_type": "code",
   "execution_count": 1,
   "metadata": {},
   "outputs": [
    {
     "data": {
      "text/plain": [
       "'<html>\\r\\n<head><title>400 Bad Request</title></head>\\r\\n<body bgcolor=\"white\">\\r\\n<center><h1>400 Bad Request</h1></center>\\r\\n<hr><center>openresty</center>\\r\\n</body>\\r\\n</html>\\r\\n'"
      ]
     },
     "execution_count": 1,
     "metadata": {},
     "output_type": "execute_result"
    }
   ],
   "source": [
    "import requests\n",
    "r = requests.get('https://www.zhihu.com/api/v4/questions/55493026/answers')\n",
    "response = r.text\n",
    "\n",
    "response"
   ]
  },
  {
   "cell_type": "code",
   "execution_count": 2,
   "metadata": {
    "scrolled": true
   },
   "outputs": [
    {
     "data": {
      "text/plain": [
       "'{\"data\":[{\"id\":637938925,\"type\":\"answer\",\"answer_type\":\"normal\",\"question\":{\"type\":\"question\",\"id\":55493026,\"title\":\"你们都是怎么学 Python 的？\",\"question_type\":\"normal\",\"created\":1486390229,\"updated_time\":1582533957,\"url\":\"https://www.zhihu.com/api/v4/questions/55493026\",\"relationship\":{}},\"author\":{\"id\":\"e8c4768eaa41e3749f7e8bc5ac6aa74b\",\"url_token\":\"Lanyuneet\",\"name\":\"Slumbers\",\"avatar_url\":\"https://pic2.zhimg.com/v2-f950cfef511d33500177be90030dcd3d_is.jpg\",\"avatar_url_template\":\"https://pic2.zhimg.com/v2-f950cfef511d33500177be90030dcd3d_{size}.jpg\",\"is_org\":false,\"type\":\"people\",\"url\":\"https://www.zhihu.com/api/v4/people/e8c4768eaa41e3749f7e8bc5ac6aa74b\",\"user_type\":\"people\",\"headline\":\"算法工程师\",\"badge\":[],\"gender\":0,\"is_advertiser\":false,\"is_privacy\":false},\"url\":\"https://www.zhihu.com/api/v4/answers/637938925\",\"is_collapsed\":false,\"created_time\":1554085028,\"updated_time\":1558451618,\"extras\":\"\",\"is_copyable\":true,\"relationship\":{\"upvoted_followees\":[]},\"ad_answer\":null},{\"id\":683070334,\"type\":\"answer\",\"answer_type\":\"normal\",\"question\":{\"type\":\"question\",\"id\":55493026,\"title\":\"你们都是怎么学 Python 的？\",\"question_type\":\"normal\",\"created\":1486390229,\"updated_time\":1582533957,\"url\":\"https://www.zhihu.com/api/v4/questions/55493026\",\"relationship\":{}},\"author\":{\"id\":\"36f69162230003d316d0b8a6d8da20ba\",\"url_token\":\"liang-zi-wei-48\",\"name\":\"量子位\",\"avatar_url\":\"https://pic4.zhimg.com/v2-ca6e7ffc10a0d10edbae635cee82d007_is.jpg\",\"avatar_url_template\":\"https://pic4.zhimg.com/v2-ca6e7ffc10a0d10edbae635cee82d007_{size}.jpg\",\"is_org\":true,\"type\":\"people\",\"url\":\"https://www.zhihu.com/api/v4/people/36f69162230003d316d0b8a6d8da20ba\",\"user_type\":\"organization\",\"headline\":\"有趣的AI\\\\u0026amp;前沿科技→_→ 公众号：QbitAI\",\"badge\":[{\"type\":\"identity\",\"description\":\"已认证的官方帐号\",\"topics\":[]},{\"type\":\"best_answerer\",\"description\":\"优秀回答者\",\"topics\":[]}],\"gender\":-1,\"is_advertiser\":false,\"is_privacy\":false},\"url\":\"https://www.zhihu.com/api/v4/answers/683070334\",\"is_collapsed\":false,\"created_time\":1557824412,\"updated_time\":1557824412,\"extras\":\"\",\"is_copyable\":true,\"relationship\":{\"upvoted_followees\":[]},\"ad_answer\":null},{\"id\":163537026,\"type\":\"answer\",\"answer_type\":\"normal\",\"question\":{\"type\":\"question\",\"id\":55493026,\"title\":\"你们都是怎么学 Python 的？\",\"question_type\":\"normal\",\"created\":1486390229,\"updated_time\":1582533957,\"url\":\"https://www.zhihu.com/api/v4/questions/55493026\",\"relationship\":{}},\"author\":{\"id\":\"eaf435b228ce0b038a4afe8203f59b49\",\"url_token\":\"sgai\",\"name\":\"路人甲\",\"avatar_url\":\"https://pic3.zhimg.com/958a18f3216805bed269d158fb83325a_is.jpg\",\"avatar_url_template\":\"https://pic3.zhimg.com/958a18f3216805bed269d158fb83325a_{size}.jpg\",\"is_org\":false,\"type\":\"people\",\"url\":\"https://www.zhihu.com/api/v4/people/eaf435b228ce0b038a4afe8203f59b49\",\"user_type\":\"people\",\"headline\":\"微信公众号：路人甲TM，微信：thisnozy\",\"badge\":[],\"gender\":1,\"is_advertiser\":false,\"is_privacy\":false},\"url\":\"https://www.zhihu.com/api/v4/answers/163537026\",\"is_collapsed\":false,\"created_time\":1493693113,\"updated_time\":1579138388,\"extras\":\"\",\"is_copyable\":true,\"relationship\":{\"upvoted_followees\":[]},\"ad_answer\":null},{\"id\":873825546,\"type\":\"answer\",\"answer_type\":\"normal\",\"question\":{\"type\":\"question\",\"id\":55493026,\"title\":\"你们都是怎么学 Python 的？\",\"question_type\":\"normal\",\"created\":1486390229,\"updated_time\":1582533957,\"url\":\"https://www.zhihu.com/api/v4/questions/55493026\",\"relationship\":{}},\"author\":{\"id\":\"4d1c2c77bc7431c2a6006d154198e8b9\",\"url_token\":\"ji-de-yao-xing-fu\",\"name\":\"痴海\",\"avatar_url\":\"https://pic3.zhimg.com/v2-f9642b41b7729c029c6c7978c4c019e8_is.jpg\",\"avatar_url_template\":\"https://pic3.zhimg.com/v2-f9642b41b7729c029c6c7978c4c019e8_{size}.jpg\",\"is_org\":false,\"type\":\"people\",\"url\":\"https://www.zhihu.com/api/v4/people/4d1c2c77bc7431c2a6006d154198e8b9\",\"user_type\":\"people\",\"headline\":\"公众号「痴海」: 一起向上成长，成为一个厉害的人\",\"badge\":[],\"gender\":1,\"is_advertiser\":false,\"is_privacy\":false},\"url\":\"https://www.zhihu.com/api/v4/answers/873825546\",\"is_collapsed\":false,\"created_time\":1572318426,\"updated_time\":1574756054,\"extras\":\"\",\"is_copyable\":false,\"relationship\":{\"upvoted_followees\":[]},\"ad_answer\":null},{\"id\":609522449,\"type\":\"answer\",\"answer_type\":\"normal\",\"question\":{\"type\":\"question\",\"id\":55493026,\"title\":\"你们都是怎么学 Python 的？\",\"question_type\":\"normal\",\"created\":1486390229,\"updated_time\":1582533957,\"url\":\"https://www.zhihu.com/api/v4/questions/55493026\",\"relationship\":{}},\"author\":{\"id\":\"490d264b4a2a4a7dd278c3d418c3e5fa\",\"url_token\":\"si-xi-29-93\",\"name\":\"啊窝额\",\"avatar_url\":\"https://pic4.zhimg.com/v2-13117b0fb45ff0091326179fcfa97932_is.jpg\",\"avatar_url_template\":\"https://pic4.zhimg.com/v2-13117b0fb45ff0091326179fcfa97932_{size}.jpg\",\"is_org\":false,\"type\":\"people\",\"url\":\"https://www.zhihu.com/api/v4/people/490d264b4a2a4a7dd278c3d418c3e5fa\",\"user_type\":\"people\",\"headline\":\"某厂一个程序员。\",\"badge\":[],\"gender\":0,\"is_advertiser\":false,\"is_privacy\":false},\"url\":\"https://www.zhihu.com/api/v4/answers/609522449\",\"is_collapsed\":false,\"created_time\":1551238885,\"updated_time\":1559194081,\"extras\":\"\",\"is_copyable\":true,\"relationship\":{\"upvoted_followees\":[]},\"ad_answer\":null}],\"paging\":{\"is_end\":false,\"is_start\":true,\"next\":\"https://www.zhihu.com/api/v4/questions/55493026/answers?limit=5\\\\u0026offset=5\",\"previous\":\"https://www.zhihu.com/api/v4/questions/55493026/answers?limit=5\\\\u0026offset=0\",\"totals\":562}}\\n'"
      ]
     },
     "execution_count": 2,
     "metadata": {},
     "output_type": "execute_result"
    }
   ],
   "source": [
    "import requests\n",
    "\n",
    "headers = {'user-agent': 'my-app/0.0.1'}\n",
    "r =requests.get('https://www.zhihu.com/api/v4/questions/55493026/answers',headers=headers)\n",
    "response = r.text\n",
    "\n",
    "response"
   ]
  },
  {
   "cell_type": "code",
   "execution_count": 3,
   "metadata": {
    "scrolled": true
   },
   "outputs": [
    {
     "name": "stdout",
     "output_type": "stream",
     "text": [
      "{'id': 637938925, 'type': 'answer', 'answer_type': 'normal', 'question': {'type': 'question', 'id': 55493026, 'title': '你们都是怎么学 Python 的？', 'question_type': 'normal', 'created': 1486390229, 'updated_time': 1582533957, 'url': 'https://www.zhihu.com/api/v4/questions/55493026', 'relationship': {}}, 'author': {'id': 'e8c4768eaa41e3749f7e8bc5ac6aa74b', 'url_token': 'Lanyuneet', 'name': 'Slumbers', 'avatar_url': 'https://pic2.zhimg.com/v2-f950cfef511d33500177be90030dcd3d_is.jpg', 'avatar_url_template': 'https://pic2.zhimg.com/v2-f950cfef511d33500177be90030dcd3d_{size}.jpg', 'is_org': False, 'type': 'people', 'url': 'https://www.zhihu.com/api/v4/people/e8c4768eaa41e3749f7e8bc5ac6aa74b', 'user_type': 'people', 'headline': '算法工程师', 'badge': [], 'gender': 0, 'is_advertiser': False, 'is_privacy': False}, 'url': 'https://www.zhihu.com/api/v4/answers/637938925', 'is_collapsed': False, 'created_time': 1554085028, 'updated_time': 1558451618, 'extras': '', 'is_copyable': True, 'relationship': {'upvoted_followees': []}, 'ad_answer': None}\n",
      "{'id': 683070334, 'type': 'answer', 'answer_type': 'normal', 'question': {'type': 'question', 'id': 55493026, 'title': '你们都是怎么学 Python 的？', 'question_type': 'normal', 'created': 1486390229, 'updated_time': 1582533957, 'url': 'https://www.zhihu.com/api/v4/questions/55493026', 'relationship': {}}, 'author': {'id': '36f69162230003d316d0b8a6d8da20ba', 'url_token': 'liang-zi-wei-48', 'name': '量子位', 'avatar_url': 'https://pic4.zhimg.com/v2-ca6e7ffc10a0d10edbae635cee82d007_is.jpg', 'avatar_url_template': 'https://pic4.zhimg.com/v2-ca6e7ffc10a0d10edbae635cee82d007_{size}.jpg', 'is_org': True, 'type': 'people', 'url': 'https://www.zhihu.com/api/v4/people/36f69162230003d316d0b8a6d8da20ba', 'user_type': 'organization', 'headline': '有趣的AI&amp;前沿科技→_→ 公众号：QbitAI', 'badge': [{'type': 'identity', 'description': '已认证的官方帐号', 'topics': []}, {'type': 'best_answerer', 'description': '优秀回答者', 'topics': []}], 'gender': -1, 'is_advertiser': False, 'is_privacy': False}, 'url': 'https://www.zhihu.com/api/v4/answers/683070334', 'is_collapsed': False, 'created_time': 1557824412, 'updated_time': 1557824412, 'extras': '', 'is_copyable': True, 'relationship': {'upvoted_followees': []}, 'ad_answer': None}\n",
      "{'id': 163537026, 'type': 'answer', 'answer_type': 'normal', 'question': {'type': 'question', 'id': 55493026, 'title': '你们都是怎么学 Python 的？', 'question_type': 'normal', 'created': 1486390229, 'updated_time': 1582533957, 'url': 'https://www.zhihu.com/api/v4/questions/55493026', 'relationship': {}}, 'author': {'id': 'eaf435b228ce0b038a4afe8203f59b49', 'url_token': 'sgai', 'name': '路人甲', 'avatar_url': 'https://pic3.zhimg.com/958a18f3216805bed269d158fb83325a_is.jpg', 'avatar_url_template': 'https://pic3.zhimg.com/958a18f3216805bed269d158fb83325a_{size}.jpg', 'is_org': False, 'type': 'people', 'url': 'https://www.zhihu.com/api/v4/people/eaf435b228ce0b038a4afe8203f59b49', 'user_type': 'people', 'headline': '微信公众号：路人甲TM，微信：thisnozy', 'badge': [], 'gender': 1, 'is_advertiser': False, 'is_privacy': False}, 'url': 'https://www.zhihu.com/api/v4/answers/163537026', 'is_collapsed': False, 'created_time': 1493693113, 'updated_time': 1579138388, 'extras': '', 'is_copyable': True, 'relationship': {'upvoted_followees': []}, 'ad_answer': None}\n",
      "{'id': 873825546, 'type': 'answer', 'answer_type': 'normal', 'question': {'type': 'question', 'id': 55493026, 'title': '你们都是怎么学 Python 的？', 'question_type': 'normal', 'created': 1486390229, 'updated_time': 1582533957, 'url': 'https://www.zhihu.com/api/v4/questions/55493026', 'relationship': {}}, 'author': {'id': '4d1c2c77bc7431c2a6006d154198e8b9', 'url_token': 'ji-de-yao-xing-fu', 'name': '痴海', 'avatar_url': 'https://pic3.zhimg.com/v2-f9642b41b7729c029c6c7978c4c019e8_is.jpg', 'avatar_url_template': 'https://pic3.zhimg.com/v2-f9642b41b7729c029c6c7978c4c019e8_{size}.jpg', 'is_org': False, 'type': 'people', 'url': 'https://www.zhihu.com/api/v4/people/4d1c2c77bc7431c2a6006d154198e8b9', 'user_type': 'people', 'headline': '公众号「痴海」: 一起向上成长，成为一个厉害的人', 'badge': [], 'gender': 1, 'is_advertiser': False, 'is_privacy': False}, 'url': 'https://www.zhihu.com/api/v4/answers/873825546', 'is_collapsed': False, 'created_time': 1572318426, 'updated_time': 1574756054, 'extras': '', 'is_copyable': False, 'relationship': {'upvoted_followees': []}, 'ad_answer': None}\n",
      "{'id': 609522449, 'type': 'answer', 'answer_type': 'normal', 'question': {'type': 'question', 'id': 55493026, 'title': '你们都是怎么学 Python 的？', 'question_type': 'normal', 'created': 1486390229, 'updated_time': 1582533957, 'url': 'https://www.zhihu.com/api/v4/questions/55493026', 'relationship': {}}, 'author': {'id': '490d264b4a2a4a7dd278c3d418c3e5fa', 'url_token': 'si-xi-29-93', 'name': '啊窝额', 'avatar_url': 'https://pic4.zhimg.com/v2-13117b0fb45ff0091326179fcfa97932_is.jpg', 'avatar_url_template': 'https://pic4.zhimg.com/v2-13117b0fb45ff0091326179fcfa97932_{size}.jpg', 'is_org': False, 'type': 'people', 'url': 'https://www.zhihu.com/api/v4/people/490d264b4a2a4a7dd278c3d418c3e5fa', 'user_type': 'people', 'headline': '某厂一个程序员。', 'badge': [], 'gender': 0, 'is_advertiser': False, 'is_privacy': False}, 'url': 'https://www.zhihu.com/api/v4/answers/609522449', 'is_collapsed': False, 'created_time': 1551238885, 'updated_time': 1559194081, 'extras': '', 'is_copyable': True, 'relationship': {'upvoted_followees': []}, 'ad_answer': None}\n"
     ]
    }
   ],
   "source": [
    "import json\n",
    "data = json.loads(response)\n",
    "\n",
    "for d in data['data']:\n",
    "    print(d)\n"
   ]
  },
  {
   "cell_type": "code",
   "execution_count": 5,
   "metadata": {},
   "outputs": [
    {
     "data": {
      "text/plain": [
       "[{'id': 637938925,\n",
       "  'type': 'answer',\n",
       "  'answer_type': 'normal',\n",
       "  'question': {'type': 'question',\n",
       "   'id': 55493026,\n",
       "   'title': '你们都是怎么学 Python 的？',\n",
       "   'question_type': 'normal',\n",
       "   'created': 1486390229,\n",
       "   'updated_time': 1582533957,\n",
       "   'url': 'https://www.zhihu.com/api/v4/questions/55493026',\n",
       "   'relationship': {}},\n",
       "  'author': {'id': 'e8c4768eaa41e3749f7e8bc5ac6aa74b',\n",
       "   'url_token': 'Lanyuneet',\n",
       "   'name': 'Slumbers',\n",
       "   'avatar_url': 'https://pic2.zhimg.com/v2-f950cfef511d33500177be90030dcd3d_is.jpg',\n",
       "   'avatar_url_template': 'https://pic2.zhimg.com/v2-f950cfef511d33500177be90030dcd3d_{size}.jpg',\n",
       "   'is_org': False,\n",
       "   'type': 'people',\n",
       "   'url': 'https://www.zhihu.com/api/v4/people/e8c4768eaa41e3749f7e8bc5ac6aa74b',\n",
       "   'user_type': 'people',\n",
       "   'headline': '算法工程师',\n",
       "   'badge': [],\n",
       "   'gender': 0,\n",
       "   'is_advertiser': False,\n",
       "   'is_privacy': False},\n",
       "  'url': 'https://www.zhihu.com/api/v4/answers/637938925',\n",
       "  'is_collapsed': False,\n",
       "  'created_time': 1554085028,\n",
       "  'updated_time': 1558451618,\n",
       "  'extras': '',\n",
       "  'is_copyable': True,\n",
       "  'relationship': {'upvoted_followees': []},\n",
       "  'ad_answer': None},\n",
       " {'id': 683070334,\n",
       "  'type': 'answer',\n",
       "  'answer_type': 'normal',\n",
       "  'question': {'type': 'question',\n",
       "   'id': 55493026,\n",
       "   'title': '你们都是怎么学 Python 的？',\n",
       "   'question_type': 'normal',\n",
       "   'created': 1486390229,\n",
       "   'updated_time': 1582533957,\n",
       "   'url': 'https://www.zhihu.com/api/v4/questions/55493026',\n",
       "   'relationship': {}},\n",
       "  'author': {'id': '36f69162230003d316d0b8a6d8da20ba',\n",
       "   'url_token': 'liang-zi-wei-48',\n",
       "   'name': '量子位',\n",
       "   'avatar_url': 'https://pic4.zhimg.com/v2-ca6e7ffc10a0d10edbae635cee82d007_is.jpg',\n",
       "   'avatar_url_template': 'https://pic4.zhimg.com/v2-ca6e7ffc10a0d10edbae635cee82d007_{size}.jpg',\n",
       "   'is_org': True,\n",
       "   'type': 'people',\n",
       "   'url': 'https://www.zhihu.com/api/v4/people/36f69162230003d316d0b8a6d8da20ba',\n",
       "   'user_type': 'organization',\n",
       "   'headline': '有趣的AI&amp;前沿科技→_→ 公众号：QbitAI',\n",
       "   'badge': [{'type': 'identity', 'description': '已认证的官方帐号', 'topics': []},\n",
       "    {'type': 'best_answerer', 'description': '优秀回答者', 'topics': []}],\n",
       "   'gender': -1,\n",
       "   'is_advertiser': False,\n",
       "   'is_privacy': False},\n",
       "  'url': 'https://www.zhihu.com/api/v4/answers/683070334',\n",
       "  'is_collapsed': False,\n",
       "  'created_time': 1557824412,\n",
       "  'updated_time': 1557824412,\n",
       "  'extras': '',\n",
       "  'is_copyable': True,\n",
       "  'relationship': {'upvoted_followees': []},\n",
       "  'ad_answer': None},\n",
       " {'id': 163537026,\n",
       "  'type': 'answer',\n",
       "  'answer_type': 'normal',\n",
       "  'question': {'type': 'question',\n",
       "   'id': 55493026,\n",
       "   'title': '你们都是怎么学 Python 的？',\n",
       "   'question_type': 'normal',\n",
       "   'created': 1486390229,\n",
       "   'updated_time': 1582533957,\n",
       "   'url': 'https://www.zhihu.com/api/v4/questions/55493026',\n",
       "   'relationship': {}},\n",
       "  'author': {'id': 'eaf435b228ce0b038a4afe8203f59b49',\n",
       "   'url_token': 'sgai',\n",
       "   'name': '路人甲',\n",
       "   'avatar_url': 'https://pic3.zhimg.com/958a18f3216805bed269d158fb83325a_is.jpg',\n",
       "   'avatar_url_template': 'https://pic3.zhimg.com/958a18f3216805bed269d158fb83325a_{size}.jpg',\n",
       "   'is_org': False,\n",
       "   'type': 'people',\n",
       "   'url': 'https://www.zhihu.com/api/v4/people/eaf435b228ce0b038a4afe8203f59b49',\n",
       "   'user_type': 'people',\n",
       "   'headline': '微信公众号：路人甲TM，微信：thisnozy',\n",
       "   'badge': [],\n",
       "   'gender': 1,\n",
       "   'is_advertiser': False,\n",
       "   'is_privacy': False},\n",
       "  'url': 'https://www.zhihu.com/api/v4/answers/163537026',\n",
       "  'is_collapsed': False,\n",
       "  'created_time': 1493693113,\n",
       "  'updated_time': 1579138388,\n",
       "  'extras': '',\n",
       "  'is_copyable': True,\n",
       "  'relationship': {'upvoted_followees': []},\n",
       "  'ad_answer': None},\n",
       " {'id': 873825546,\n",
       "  'type': 'answer',\n",
       "  'answer_type': 'normal',\n",
       "  'question': {'type': 'question',\n",
       "   'id': 55493026,\n",
       "   'title': '你们都是怎么学 Python 的？',\n",
       "   'question_type': 'normal',\n",
       "   'created': 1486390229,\n",
       "   'updated_time': 1582533957,\n",
       "   'url': 'https://www.zhihu.com/api/v4/questions/55493026',\n",
       "   'relationship': {}},\n",
       "  'author': {'id': '4d1c2c77bc7431c2a6006d154198e8b9',\n",
       "   'url_token': 'ji-de-yao-xing-fu',\n",
       "   'name': '痴海',\n",
       "   'avatar_url': 'https://pic3.zhimg.com/v2-f9642b41b7729c029c6c7978c4c019e8_is.jpg',\n",
       "   'avatar_url_template': 'https://pic3.zhimg.com/v2-f9642b41b7729c029c6c7978c4c019e8_{size}.jpg',\n",
       "   'is_org': False,\n",
       "   'type': 'people',\n",
       "   'url': 'https://www.zhihu.com/api/v4/people/4d1c2c77bc7431c2a6006d154198e8b9',\n",
       "   'user_type': 'people',\n",
       "   'headline': '公众号「痴海」: 一起向上成长，成为一个厉害的人',\n",
       "   'badge': [],\n",
       "   'gender': 1,\n",
       "   'is_advertiser': False,\n",
       "   'is_privacy': False},\n",
       "  'url': 'https://www.zhihu.com/api/v4/answers/873825546',\n",
       "  'is_collapsed': False,\n",
       "  'created_time': 1572318426,\n",
       "  'updated_time': 1574756054,\n",
       "  'extras': '',\n",
       "  'is_copyable': False,\n",
       "  'relationship': {'upvoted_followees': []},\n",
       "  'ad_answer': None},\n",
       " {'id': 609522449,\n",
       "  'type': 'answer',\n",
       "  'answer_type': 'normal',\n",
       "  'question': {'type': 'question',\n",
       "   'id': 55493026,\n",
       "   'title': '你们都是怎么学 Python 的？',\n",
       "   'question_type': 'normal',\n",
       "   'created': 1486390229,\n",
       "   'updated_time': 1582533957,\n",
       "   'url': 'https://www.zhihu.com/api/v4/questions/55493026',\n",
       "   'relationship': {}},\n",
       "  'author': {'id': '490d264b4a2a4a7dd278c3d418c3e5fa',\n",
       "   'url_token': 'si-xi-29-93',\n",
       "   'name': '啊窝额',\n",
       "   'avatar_url': 'https://pic4.zhimg.com/v2-13117b0fb45ff0091326179fcfa97932_is.jpg',\n",
       "   'avatar_url_template': 'https://pic4.zhimg.com/v2-13117b0fb45ff0091326179fcfa97932_{size}.jpg',\n",
       "   'is_org': False,\n",
       "   'type': 'people',\n",
       "   'url': 'https://www.zhihu.com/api/v4/people/490d264b4a2a4a7dd278c3d418c3e5fa',\n",
       "   'user_type': 'people',\n",
       "   'headline': '某厂一个程序员。',\n",
       "   'badge': [],\n",
       "   'gender': 0,\n",
       "   'is_advertiser': False,\n",
       "   'is_privacy': False},\n",
       "  'url': 'https://www.zhihu.com/api/v4/answers/609522449',\n",
       "  'is_collapsed': False,\n",
       "  'created_time': 1551238885,\n",
       "  'updated_time': 1559194081,\n",
       "  'extras': '',\n",
       "  'is_copyable': True,\n",
       "  'relationship': {'upvoted_followees': []},\n",
       "  'ad_answer': None}]"
      ]
     },
     "execution_count": 5,
     "metadata": {},
     "output_type": "execute_result"
    }
   ],
   "source": [
    "data['data']"
   ]
  },
  {
   "cell_type": "code",
   "execution_count": 8,
   "metadata": {},
   "outputs": [
    {
     "ename": "TypeError",
     "evalue": "string indices must be integers",
     "output_type": "error",
     "traceback": [
      "\u001b[1;31m---------------------------------------------------------------------------\u001b[0m",
      "\u001b[1;31mTypeError\u001b[0m                                 Traceback (most recent call last)",
      "\u001b[1;32m<ipython-input-8-2172264c679a>\u001b[0m in \u001b[0;36m<module>\u001b[1;34m\u001b[0m\n\u001b[1;32m----> 1\u001b[1;33m \u001b[0mdata\u001b[0m\u001b[1;33m[\u001b[0m\u001b[1;34m'data'\u001b[0m\u001b[1;33m[\u001b[0m\u001b[1;34m'title'\u001b[0m\u001b[1;33m]\u001b[0m\u001b[1;33m]\u001b[0m\u001b[1;33m\u001b[0m\u001b[1;33m\u001b[0m\u001b[0m\n\u001b[0m",
      "\u001b[1;31mTypeError\u001b[0m: string indices must be integers"
     ]
    }
   ],
   "source": [
    "data['data'['title']]"
   ]
  },
  {
   "cell_type": "code",
   "execution_count": null,
   "metadata": {},
   "outputs": [],
   "source": []
  }
 ],
 "metadata": {
  "kernelspec": {
   "display_name": "Python 3",
   "language": "python",
   "name": "python3"
  },
  "language_info": {
   "codemirror_mode": {
    "name": "ipython",
    "version": 3
   },
   "file_extension": ".py",
   "mimetype": "text/x-python",
   "name": "python",
   "nbconvert_exporter": "python",
   "pygments_lexer": "ipython3",
   "version": "3.7.4"
  }
 },
 "nbformat": 4,
 "nbformat_minor": 2
}
